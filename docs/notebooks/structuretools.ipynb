{
 "cells": [
  {
   "cell_type": "markdown",
   "metadata": {},
   "source": [
    "# Structure Analysis"
   ]
  },
  {
   "cell_type": "code",
   "execution_count": 1,
   "metadata": {},
   "outputs": [
    {
     "name": "stdout",
     "output_type": "stream",
     "text": [
      "Structure is two-dimensional: True\n"
     ]
    }
   ],
   "source": [
    "%matplotlib inline\n",
    "# these two lines are only necessary to make the jupyter notebooks run on binder\n",
    "import sys\n",
    "sys.path.insert(0, \"../..\")\n",
    "\n",
    "# we load all necessary modules\n",
    "from aimstools.structuretools import Structure\n",
    "import ase.io\n",
    "\n",
    "# We load the structure from a file\n",
    "strc = Structure(\"MoS2_2H_1L.xyz\")\n",
    "\n",
    "# Reading the structure from a file calls the ase.io.read function, similar to this line:\n",
    "atoms = ase.io.read(\"MoS2_2H_1L.xyz\")\n",
    "\n",
    "# Alternatively, the Structure object can also be initialized from an ase.atoms.Atoms object:\n",
    "strc = Structure(atoms)\n",
    "\n",
    "# The Structure inherits all properties of the ase.atoms.Atoms object and can also be initialized in the same way:\n",
    "strc = Structure(positions=atoms.positions, cell=atoms.cell, symbols=atoms.symbols)\n",
    "\n",
    "# We can check whether this structure is recognized as being two-dimensional:\n",
    "print(\"Structure is two-dimensional:\", strc.is_2d())"
   ]
  },
  {
   "cell_type": "code",
   "execution_count": 2,
   "metadata": {},
   "outputs": [
    {
     "name": "stdout",
     "output_type": "stream",
     "text": [
      "Type of the supercell: Atoms(symbols='MoS2MoS2MoS2MoS2MoS2MoS2MoS2MoS2', pbc=False, cell=[[6.32, 0.0, 0.0], [-3.16, 5.47328056, 0.0], [0.0, 0.0, 200.0]], masses=...)\n"
     ]
    }
   ],
   "source": [
    "from ase.build import make_supercell\n",
    "\n",
    "# The Structure object can be treated like any ase.atoms.Atoms object:\n",
    "supercell = make_supercell(strc, [[2,0,0],[0,2,0],[0,0,2]])\n",
    "\n",
    "# However, to ensure compatibility, this will actually return an ase.atoms.Atoms object:\n",
    "print(\"Type of the supercell:\", repr(supercell))"
   ]
  },
  {
   "cell_type": "code",
   "execution_count": 3,
   "metadata": {},
   "outputs": [
    {
     "name": "stdout",
     "output_type": "stream",
     "text": [
      "Fragment Nr. 0 consists of the following indices of the original structure:\n",
      " [0, 1, 2, 6, 7, 8, 12, 13, 14, 18, 19, 20]\n",
      "The chemical formula of the fragment is Mo4S8\n",
      "---\n",
      "Fragment Nr. 1 consists of the following indices of the original structure:\n",
      " [3, 4, 5, 9, 10, 11, 15, 16, 17, 21, 22, 23]\n",
      "The chemical formula of the fragment is Mo4S8\n",
      "---\n"
     ]
    }
   ],
   "source": [
    "# We can convert the supercell back to a Structure object easily:\n",
    "strc = Structure(supercell)\n",
    "\n",
    "# In this supercell, we can look for non-bonded fragments:\n",
    "fragments = strc.find_fragments()\n",
    "for i, (indices, part) in enumerate(fragments):\n",
    "    print(\"Fragment Nr. {:d} consists of the following indices of the original structure:\\n {}\".format(i, indices))\n",
    "    print(\"The chemical formula of the fragment is {}\".format(part.get_chemical_formula()))\n",
    "    print(\"---\")"
   ]
  },
  {
   "cell_type": "code",
   "execution_count": 4,
   "metadata": {},
   "outputs": [
    {
     "name": "stdout",
     "output_type": "stream",
     "text": [
      "Old lengths: a = 6.3200, b = 6.3200, c = 200.0000\n",
      "New lengths: a = 3.1600, b = 3.1600, c = 100.0000\n"
     ]
    }
   ],
   "source": [
    "# To get back to the primitive unit, we can use the standardize function:\n",
    "\n",
    "old_lengths = strc.cell.lengths()\n",
    "strc.standardize(symprec=1e-3, to_primitive=True)\n",
    "new_lengths = strc.cell.lengths()\n",
    "print(\"Old lengths: a = {:.4f}, b = {:.4f}, c = {:.4f}\".format(*old_lengths))\n",
    "print(\"New lengths: a = {:.4f}, b = {:.4f}, c = {:.4f}\".format(*new_lengths))\n",
    "\n",
    "# This method can also be used to symmetrize structures.\n",
    "# If you set to_primitive=False, you will obtain the conventional cell."
   ]
  },
  {
   "cell_type": "code",
   "execution_count": 15,
   "metadata": {},
   "outputs": [
    {
     "data": {
      "application/vnd.jupyter.widget-view+json": {
       "model_id": "2f0e486d27624386a074d2f9d716c886",
       "version_major": 2,
       "version_minor": 0
      },
      "text/plain": [
       "HBox(children=(NGLWidget(), VBox(children=(Dropdown(description='Show', options=('All', 'S', 'Ni'), value='All…"
      ]
     },
     "metadata": {},
     "output_type": "display_data"
    }
   ],
   "source": [
    "%matplotlib inline\n",
    "# In jupyter notebooks, we can get a nice representation with nglview.\n",
    "# Outside of jupyter, only the matplotlib viewer is available.\n",
    "# The Structure.view() method is a wrapper for the ase.visualize.view() method.\n",
    "\n",
    "strc = Structure(\"Ni2S3_bulk.xyz\")\n",
    "v = strc.view(viewer=\"ngl\")\n",
    "v.view.add_ball_and_stick()\n",
    "v.view.add_unitcell()\n",
    "v.view.camera = \"orthographic\"\n",
    "v"
   ]
  }
 ],
 "metadata": {
  "kernelspec": {
   "display_name": "Python 3",
   "language": "python",
   "name": "python3"
  },
  "language_info": {
   "codemirror_mode": {
    "name": "ipython",
    "version": 3
   },
   "file_extension": ".py",
   "mimetype": "text/x-python",
   "name": "python",
   "nbconvert_exporter": "python",
   "pygments_lexer": "ipython3",
   "version": "3.8.5"
  }
 },
 "nbformat": 4,
 "nbformat_minor": 4
}
