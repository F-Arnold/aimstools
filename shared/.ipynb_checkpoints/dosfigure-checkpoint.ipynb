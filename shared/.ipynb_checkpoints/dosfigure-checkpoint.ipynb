{
 "cells": [
  {
   "cell_type": "code",
   "execution_count": 5,
   "metadata": {},
   "outputs": [
    {
     "data": {
      "application/vnd.jupyter.widget-view+json": {
       "model_id": "1a7b1e4bbee64d29af4ab29d51ea7386",
       "version_major": 2,
       "version_minor": 0
      },
      "text/plain": [
       "interactive(children=(FloatSlider(value=2.0, description='figwidth', max=5.0, min=1.0), IntSlider(value=8, des…"
      ]
     },
     "metadata": {},
     "output_type": "display_data"
    },
    {
     "data": {
      "text/plain": [
       "<function __main__.show_figure(figwidth=2, figheight=8, color_PbI4='purple', color_WS2='orange', color_PEA='gray', label_PbI4='PbI$_2$', label_WS2='WS$_2$', label_PEA='PEA', fontsize=12, show_yticks=True, show_ylabel=True, save_figure=False)>"
      ]
     },
     "execution_count": 5,
     "metadata": {},
     "output_type": "execute_result"
    }
   ],
   "source": [
    "%matplotlib inline\n",
    "import sys\n",
    "sys.path.append(\"../..\")\n",
    "from aimstools.density_of_states import SpeciesProjectedDOS\n",
    "import matplotlib.pyplot as plt\n",
    "from matplotlib.lines import Line2D\n",
    "from matplotlib import gridspec\n",
    "from ipywidgets import interact, interactive\n",
    "\n",
    "from matplotlib import rcParams\n",
    "import matplotlib.font_manager\n",
    "\n",
    "spd = SpeciesProjectedDOS(\".\")\n",
    "\n",
    "\n",
    "def show_figure(figwidth=2, figheight=8, color_PbI4=\"purple\", color_WS2=\"orange\", color_PEA=\"gray\",\n",
    "               label_PbI4=\"PbI$_2$\", label_WS2=\"WS$_2$\", label_PEA=\"PEA\", fontsize=12, \n",
    "                show_yticks=True, show_ylabel=True, save_figure=False):\n",
    "    plt.style.use(\"seaborn-ticks\")\n",
    "    rcParams[\"legend.handlelength\"] = 0.8\n",
    "    rcParams[\"legend.framealpha\"] = 0.8\n",
    "    rcParams[\"font.size\"] = fontsize\n",
    "    rcParams[\"legend.fontsize\"] = fontsize\n",
    "    rcParams[\"legend.handlelength\"] = 1\n",
    "    # rcParams[\"font.sans-serif\"] = \"Arial\"\n",
    "    rcParams[\"font.family\"] = \"sans-serif\"\n",
    "    rcParams[\"text.usetex\"] = False\n",
    "    rcParams[\"mathtext.fontset\"] = \"stixsans\"    \n",
    "    fig = plt.figure(constrained_layout=True, figsize=(figwidth, figheight))\n",
    "    spec = gridspec.GridSpec(ncols=1, nrows=1, figure=fig, width_ratios=[1])\n",
    "    ax1 = fig.add_subplot(spec[0])\n",
    "\n",
    "    dpbi = spd.spectrum.get_species_contributions(\"Pb\")\n",
    "    dpbi += spd.spectrum.get_species_contributions(\"I\")\n",
    "\n",
    "    dws2 = spd.spectrum.get_species_contributions(\"W\")\n",
    "    dws2 += spd.spectrum.get_species_contributions(\"S\")\n",
    "\n",
    "    dpepi = spd.spectrum.get_species_contributions(\"C\")\n",
    "    dpepi += spd.spectrum.get_species_contributions(\"H\")\n",
    "    dpepi += spd.spectrum.get_species_contributions(\"N\")\n",
    "\n",
    "    ax1 = spd.plot_custom_contributions([dpbi, dws2, dpepi], axes=ax1, colors=[color_PbI4, color_WS2, color_PEA],\n",
    "                                        labels=[label_PbI4, label_WS2, label_PEA], broadening=0.025)\n",
    "    ax1.set_ylim((-7,-1.3))\n",
    "    ax1.set_xlim(0.0, 200)\n",
    "    \n",
    "    if not show_ylabel:\n",
    "        ax1.set_ylabel(\"\")\n",
    "    if not show_yticks:\n",
    "        ax1.set_yticks([])    \n",
    "    if save_figure:\n",
    "        plt.savefig(\"dosfigure.png\", dpi=300, transparent=False, bbox_inches=\"tight\", facecolor=\"white\")\n",
    "    plt.show()\n",
    "\n",
    "\n",
    "\n",
    "interact(show_figure, figwidth=(1,5,0.1), figheight=(5,15,1), color_PbI4=\"purple\", color_WS2=\"orange\", color_PEA=\"gray\",\n",
    "        label_PbI4=\"PbI$_2$\", label_WS2=\"WS$_2$\", label_PEA=\"PEA\", fontsize=(6,24,1), show_yticks=True, show_ylabel=True, save_figure=False)"
   ]
  }
 ],
 "metadata": {
  "kernelspec": {
   "display_name": "Python 3",
   "language": "python",
   "name": "python3"
  },
  "language_info": {
   "codemirror_mode": {
    "name": "ipython",
    "version": 3
   },
   "file_extension": ".py",
   "mimetype": "text/x-python",
   "name": "python",
   "nbconvert_exporter": "python",
   "pygments_lexer": "ipython3",
   "version": "3.8.5"
  }
 },
 "nbformat": 4,
 "nbformat_minor": 4
}
